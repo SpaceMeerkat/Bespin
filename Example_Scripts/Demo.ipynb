{
 "cells": [
  {
   "cell_type": "markdown",
   "metadata": {},
   "source": [
    "<img src=\"../Images/logo2.png\" />\n",
    "\n",
    "# The Kohönen Self-Organising Map\n",
    "\n",
    "See [reference paper](https://sci2s.ugr.es/keel/pdf/algorithm/articulo/1990-Kohonen-PIEEE.pdf)\n",
    "\n",
    "---\n",
    "\n",
    "## Background\n",
    "\n",
    "Add stuff about why I like it and where I found it in the [astro paper](https://arxiv.org/pdf/1512.01246v2.pdf). "
   ]
  },
  {
   "cell_type": "markdown",
   "metadata": {},
   "source": [
    "### Breaking down the algorithm\n",
    "\n",
    "#### The training algorithm...\n",
    "\n",
    "\n",
    "\n",
    "\n",
    "#### Neighbourhood weight update... \n",
    "\n",
    "### <p style=\"text-align: center;\"> $m_{ij}(t+1) = m_{ij}(t) + \\alpha_{i}(t)\\,\\beta_{ij}(t)\\,[x(t) - m_{ij}(t)]$ </p>\n",
    "\n",
    "$m_{ij}$: weight value of node at position $ij$ on the map\n",
    "\n",
    "$t$: iteration in the interval \\[0,N\\] \n",
    "\n",
    "$\\alpha_{i}$: learning rate; decreases with time in the interval \\[0,1\\]\n",
    "\n",
    "$\\beta_{ij}$: neighbourhood function; weights the influence of the best matching unit on is neighbours\n",
    "\n",
    "$x$: input vector \n",
    "\n",
    "---\n",
    "\n",
    "## Demo"
   ]
  },
  {
   "cell_type": "code",
   "execution_count": 1,
   "metadata": {},
   "outputs": [],
   "source": [
    "import matplotlib.pyplot as plt\n",
    "import numpy as np\n",
    "from tqdm import tqdm \n",
    "import sys\n",
    "sys.path.append('../')\n",
    "\n",
    "from Kohonen_SOM import SOM"
   ]
  },
  {
   "cell_type": "markdown",
   "metadata": {},
   "source": [
    "### Generate some training data"
   ]
  },
  {
   "cell_type": "code",
   "execution_count": 2,
   "metadata": {},
   "outputs": [],
   "source": [
    "train_data = np.array([[0,0,1],[0,1,0],[0,0,0],[0,1,1],[0,0,0],[0,1,0],[0,0,1],\n",
    "                       [0,0,1],[0,0,0.8],[0,0,0.91],[1,0,0.95],[0,0,0.949]])      "
   ]
  },
  {
   "cell_type": "markdown",
   "metadata": {},
   "source": [
    "### Choose parameters and train the map\n",
    "\n",
    "List the parameters and the training equation"
   ]
  },
  {
   "cell_type": "code",
   "execution_count": 4,
   "metadata": {},
   "outputs": [
    {
     "data": {
      "application/vnd.jupyter.widget-view+json": {
       "model_id": "d9de280e9f8c47279113d03b9ee5d4a6",
       "version_major": 2,
       "version_minor": 0
      },
      "text/plain": [
       "HBox(children=(VBox(children=(IntSlider(value=100, description='$N$:', max=200), FloatSlider(value=0.1, descri…"
      ]
     },
     "metadata": {},
     "output_type": "display_data"
    }
   ],
   "source": [
    "map_maker = SOM(x_size=20,y_size=20,data=train_data)\n",
    "map_maker.front_display()"
   ]
  },
  {
   "cell_type": "code",
   "execution_count": null,
   "metadata": {},
   "outputs": [],
   "source": []
  }
 ],
 "metadata": {
  "kernelspec": {
   "display_name": "Python 3",
   "language": "python",
   "name": "python3"
  },
  "language_info": {
   "codemirror_mode": {
    "name": "ipython",
    "version": 3
   },
   "file_extension": ".py",
   "mimetype": "text/x-python",
   "name": "python",
   "nbconvert_exporter": "python",
   "pygments_lexer": "ipython3",
   "version": "3.6.10"
  }
 },
 "nbformat": 4,
 "nbformat_minor": 4
}

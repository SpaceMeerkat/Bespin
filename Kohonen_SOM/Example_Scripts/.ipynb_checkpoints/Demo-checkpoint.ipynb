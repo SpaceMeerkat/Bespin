{
 "cells": [
  {
   "cell_type": "markdown",
   "metadata": {},
   "source": [
    "<img src=\"../Images/logo2.png\" />\n",
    "\n",
    "# The Kohonen Self-Organising Map\n",
    "\n",
    "See [reference paper](https://sci2s.ugr.es/keel/pdf/algorithm/articulo/1990-Kohonen-PIEEE.pdf)\n",
    "\n",
    "---\n",
    "\n",
    "## Background and application - Variable star classification\n",
    "\n",
    "<img align=\"left\" src=\"../Images/K2.png\" width=\"50%\" /> <img align=\"left\" src=\"../Images/K2_2.png\" width=\"50%\" /> \n",
    "\n",
    "<br />\n",
    "\n",
    "Images credit: [Armstrong et al. 2015](https://arxiv.org/pdf/1512.01246v2.pdf) \n",
    "\n",
    "---\n",
    "\n",
    "### Breaking down the algorithm\n",
    "\n",
    "#### The training algorithm...\n",
    "\n",
    "- For an input vector $x$, select the best matching unit in the kohonen layer (BMU). \n",
    "\n",
    "- For all neighbouring nodes $m_{ij}$ within a functionally defined radius of the BMU, update their weights to better match the $x$.\n",
    "\n",
    "- Repeat for all input vectors.\n",
    "\n",
    "- Shuffle the input vectors and repeat until convergence. \n",
    "\n",
    "\n",
    "#### Neighbourhood weight update... \n",
    "\n",
    "### <p style=\"text-align: center;\"> $m_{ij}(t+1) = m_{ij}(t) + \\alpha_{i}(t)\\,\\beta_{ij}(t)\\,[x(t) - m_{ij}(t)]$ </p>\n",
    "\n",
    "$m_{ij}$: weight value of node at position $ij$ on the map\n",
    "\n",
    "$t$: iteration in the interval \\[0,N\\] \n",
    "\n",
    "$\\alpha_{i}$: learning rate; decreases with time in the interval \\[0,1\\]\n",
    "\n",
    "$\\beta_{ij}$: neighbourhood function; weights the influence of the best matching unit on is neighbours\n",
    "\n",
    "$x$: input vector \n",
    "\n",
    "---\n",
    "\n",
    "## Demo"
   ]
  },
  {
   "cell_type": "code",
   "execution_count": 1,
   "metadata": {},
   "outputs": [],
   "source": [
    "import matplotlib.pyplot as plt\n",
    "import numpy as np\n",
    "from tqdm import tqdm \n",
    "import sys\n",
    "sys.path.append('../')\n",
    "\n",
    "from Kohonen_SOM import SOM"
   ]
  },
  {
   "cell_type": "markdown",
   "metadata": {},
   "source": [
    "### Generate some training data"
   ]
  },
  {
   "cell_type": "code",
   "execution_count": 4,
   "metadata": {},
   "outputs": [],
   "source": [
    "train_data = np.array([[0,0,1],[0,1,0],[0,0,0],[0,1,1],[0,0,0],[0,1,0],[0,0,1],[0,0,1],[0,0,0.8],[0,0,0.91],\n",
    "                       [1,0,0.95],[0,0,0.949]])      "
   ]
  },
  {
   "cell_type": "markdown",
   "metadata": {},
   "source": [
    "### Choose parameters and train the map\n",
    "\n",
    "List the parameters and the training equation"
   ]
  },
  {
   "cell_type": "code",
   "execution_count": 3,
   "metadata": {},
   "outputs": [
    {
     "data": {
      "application/vnd.jupyter.widget-view+json": {
       "model_id": "3a25ad7c2ee448a6ba0365c852e36f52",
       "version_major": 2,
       "version_minor": 0
      },
      "text/plain": [
       "HBox(children=(VBox(children=(IntSlider(value=100, description='$N$:', max=200), FloatSlider(value=0.1, descri…"
      ]
     },
     "metadata": {},
     "output_type": "display_data"
    },
    {
     "data": {
      "application/vnd.jupyter.widget-view+json": {
       "model_id": "9b3a2eb3dff34264af7c792c6f68edaa",
       "version_major": 2,
       "version_minor": 0
      },
      "text/plain": [
       "HBox(children=(Button(button_style='success', description='Show map', style=ButtonStyle(), tooltip='Shows the …"
      ]
     },
     "metadata": {},
     "output_type": "display_data"
    },
    {
     "data": {
      "image/png": "[encoded data removed]",
      "text/plain": [
       "<Figure size 360x360 with 1 Axes>"
      ]
     },
     "metadata": {
      "needs_background": "light"
     },
     "output_type": "display_data"
    },
    {
     "data": {
      "application/vnd.jupyter.widget-view+json": {
       "model_id": "6d7169d2f9ef44dea4e7c020ba4e5d01",
       "version_major": 2,
       "version_minor": 0
      },
      "text/plain": [
       "HBox(children=(Button(button_style='success', description='Show map', style=ButtonStyle(), tooltip='Shows the …"
      ]
     },
     "metadata": {},
     "output_type": "display_data"
    },
    {
     "data": {
      "image/png": "[encoded data removed]",
      "text/plain": [
       "<Figure size 360x360 with 1 Axes>"
      ]
     },
     "metadata": {
      "needs_background": "light"
     },
     "output_type": "display_data"
    }
   ],
   "source": [
    "map_maker = SOM(x_size=20,y_size=20,data=train_data)\n",
    "map_maker.front_display()"
   ]
  },
  {
   "cell_type": "markdown",
   "metadata": {},
   "source": [
    "---\n",
    "\n",
    "## Discussion\n",
    "\n",
    "### Pros and cons in an application setting\n",
    "\n",
    "| <span style=\"color:green\"> Pros </span> | <span style=\"color:red\"> Cons </span> |\n",
    "| :---  | :---  |\n",
    "| Easy to visualise and interpret  | Toplogical distance does not equal feature similarity  |\n",
    "| Simple training procedure  | Computationally expensive |\n",
    "| Tractable training process | Each training run is unique |\n",
    "| Adaptable for aiding more empirically performant models | Does not generalise well to variable unseen data without further training  |\n",
    "| Trained maps can be saved / queried / fine-tuned | |\n",
    "| \"Clustering\" is informed by the data rather than predefined | |\n"
   ]
  }
 ],
 "metadata": {
  "kernelspec": {
   "display_name": "Python 3",
   "language": "python",
   "name": "python3"
  },
  "language_info": {
   "codemirror_mode": {
    "name": "ipython",
    "version": 3
   },
   "file_extension": ".py",
   "mimetype": "text/x-python",
   "name": "python",
   "nbconvert_exporter": "python",
   "pygments_lexer": "ipython3",
   "version": "3.6.10"
  }
 },
 "nbformat": 4,
 "nbformat_minor": 4
}
